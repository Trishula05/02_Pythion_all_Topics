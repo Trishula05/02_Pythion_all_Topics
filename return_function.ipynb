{
 "cells": [
  {
   "cell_type": "markdown",
   "id": "b64fd442-6c6a-4254-b071-75c91d987088",
   "metadata": {},
   "source": [
    "#### return function"
   ]
  },
  {
   "cell_type": "code",
   "execution_count": 1,
   "id": "38f8a6ae-4127-40af-a093-aad3db427faa",
   "metadata": {},
   "outputs": [
    {
     "name": "stdout",
     "output_type": "stream",
     "text": [
      "hello\n",
      "6\n"
     ]
    }
   ],
   "source": [
    "def my_func():\n",
    "    print(\"hello\")\n",
    "    return(3+3)\n",
    "a=my_func()\n",
    "print(a)"
   ]
  },
  {
   "cell_type": "code",
   "execution_count": 2,
   "id": "a71b4a75-223a-431b-a5b8-b6122c99ef11",
   "metadata": {},
   "outputs": [
    {
     "name": "stdout",
     "output_type": "stream",
     "text": [
      "7\n",
      "9\n"
     ]
    }
   ],
   "source": [
    "def add(fnum,lnum):\n",
    "    return fnum+lnum\n",
    "a=add(3,4)\n",
    "print(a)\n",
    "print(add(4,5))"
   ]
  },
  {
   "cell_type": "code",
   "execution_count": 3,
   "id": "e4877f6a-7006-4ad0-9bef-24af3625495f",
   "metadata": {},
   "outputs": [
    {
     "name": "stdout",
     "output_type": "stream",
     "text": [
      "7\n",
      "20 and 10\n"
     ]
    }
   ],
   "source": [
    "def add(fnum,lnum):\n",
    "    return fnum+lnum\n",
    "a=add(3,4)  \n",
    "print(a)\n",
    "print(f\"{add(5,15)} and {add(3,7)}\")"
   ]
  },
  {
   "cell_type": "code",
   "execution_count": 4,
   "id": "2cbc1d6d-fb6a-4df3-97c3-fe1158d0e5e9",
   "metadata": {},
   "outputs": [
    {
     "name": "stdout",
     "output_type": "stream",
     "text": [
      "Hello World\n"
     ]
    }
   ],
   "source": [
    "def my_func():\n",
    "    return \"Hello World\"\n",
    "a=my_func()\n",
    "print(a)"
   ]
  },
  {
   "cell_type": "code",
   "execution_count": 5,
   "id": "ab95fc79-d4a0-4dbd-8abf-0ae31b048d3a",
   "metadata": {},
   "outputs": [
    {
     "name": "stdout",
     "output_type": "stream",
     "text": [
      "Hello\n"
     ]
    }
   ],
   "source": [
    "def my_func():\n",
    "    return \"Hello\"\n",
    "    return True\n",
    "a=my_func()\n",
    "print(a)"
   ]
  },
  {
   "cell_type": "markdown",
   "id": "e9c38495-34d4-48b9-be0c-00fbefe75ff9",
   "metadata": {},
   "source": [
    "### f string call the return "
   ]
  },
  {
   "cell_type": "code",
   "execution_count": 14,
   "id": "80323520-066a-4fa8-bd81-523bf67fbbab",
   "metadata": {},
   "outputs": [
    {
     "name": "stdout",
     "output_type": "stream",
     "text": [
      "Hello,World\n"
     ]
    }
   ],
   "source": [
    "def my_fun(x):\n",
    "    return f\"Hello,{x}\"\n",
    "my_var=my_func(\"World\")\n",
    "print(my_var)"
   ]
  },
  {
   "cell_type": "code",
   "execution_count": 13,
   "id": "05509de7-3426-4a39-b29d-92dafc7a667e",
   "metadata": {},
   "outputs": [
    {
     "name": "stdout",
     "output_type": "stream",
     "text": [
      "Hello,analyst\n"
     ]
    }
   ],
   "source": [
    "def my_func(x):\n",
    "    return f\"Hello,{x}\"\n",
    "my_var=my_func(\"World\")\n",
    "print(my_func(\"analyst\"))"
   ]
  },
  {
   "cell_type": "code",
   "execution_count": 15,
   "id": "686497d4-e901-4959-a7af-e7ab2ba61ba1",
   "metadata": {},
   "outputs": [
    {
     "name": "stdout",
     "output_type": "stream",
     "text": [
      "('Hello,World', 'Nexila')\n"
     ]
    }
   ],
   "source": [
    "def my_func(y):\n",
    "    x=\"Hello,World\"\n",
    "    return x,y\n",
    "print(my_func(\"Nexila\"))"
   ]
  },
  {
   "cell_type": "code",
   "execution_count": null,
   "id": "dd3ad3bb-1ef8-453c-a4dd-6f87be7917bf",
   "metadata": {},
   "outputs": [],
   "source": []
  }
 ],
 "metadata": {
  "kernelspec": {
   "display_name": "Python [conda env:base] *",
   "language": "python",
   "name": "conda-base-py"
  },
  "language_info": {
   "codemirror_mode": {
    "name": "ipython",
    "version": 3
   },
   "file_extension": ".py",
   "mimetype": "text/x-python",
   "name": "python",
   "nbconvert_exporter": "python",
   "pygments_lexer": "ipython3",
   "version": "3.13.5"
  }
 },
 "nbformat": 4,
 "nbformat_minor": 5
}

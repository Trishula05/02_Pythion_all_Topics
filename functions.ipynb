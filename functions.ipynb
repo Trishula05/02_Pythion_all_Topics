{
 "cells": [
  {
   "cell_type": "markdown",
   "id": "79b7991b-2a16-4280-8fb3-f2151affe3dd",
   "metadata": {},
   "source": [
    "### Function"
   ]
  },
  {
   "cell_type": "code",
   "execution_count": 7,
   "id": "25a1479e-62e5-4634-8569-774e464dca70",
   "metadata": {},
   "outputs": [
    {
     "name": "stdout",
     "output_type": "stream",
     "text": [
      "30\n"
     ]
    }
   ],
   "source": [
    "def add():\n",
    "    a=10\n",
    "    b=20\n",
    "    print(a+b)\n",
    "add()"
   ]
  },
  {
   "cell_type": "code",
   "execution_count": 2,
   "id": "eeb4eca7-6760-4037-b863-ff928f2637aa",
   "metadata": {},
   "outputs": [
    {
     "name": "stdout",
     "output_type": "stream",
     "text": [
      "5\n"
     ]
    }
   ],
   "source": [
    "def add():\n",
    "    a=10\n",
    "    b=20\n",
    "print(5)\n",
    "add()"
   ]
  },
  {
   "cell_type": "code",
   "execution_count": 8,
   "id": "bc3e645c-30c0-4528-bc90-8a84e26bbb28",
   "metadata": {},
   "outputs": [
    {
     "name": "stdout",
     "output_type": "stream",
     "text": [
      "10\n"
     ]
    }
   ],
   "source": [
    "def sub():\n",
    "    a=30\n",
    "    b=20\n",
    "    print(a-b)\n",
    "sub()"
   ]
  },
  {
   "cell_type": "code",
   "execution_count": 9,
   "id": "9da5c5c4-3eaa-4082-b8f6-d83430338361",
   "metadata": {},
   "outputs": [
    {
     "name": "stdout",
     "output_type": "stream",
     "text": [
      "200\n"
     ]
    }
   ],
   "source": [
    "def multi():\n",
    "    a=20\n",
    "    b=10\n",
    "    print(a*b)\n",
    "multi()"
   ]
  },
  {
   "cell_type": "code",
   "execution_count": 11,
   "id": "4adecb7d-b373-4ddf-9cc2-beae889f5b14",
   "metadata": {},
   "outputs": [
    {
     "name": "stdout",
     "output_type": "stream",
     "text": [
      "60\n"
     ]
    }
   ],
   "source": [
    "def add(a,b,c):\n",
    "    a=10\n",
    "    b=20\n",
    "    c=30\n",
    "    print(a+b+c)\n",
    "add(10,20,30)"
   ]
  },
  {
   "cell_type": "code",
   "execution_count": 12,
   "id": "33d40d1a-d8d4-4bb7-820e-6a9e67475d17",
   "metadata": {},
   "outputs": [
    {
     "name": "stdout",
     "output_type": "stream",
     "text": [
      "The youngest child is C\n"
     ]
    }
   ],
   "source": [
    "def add(child_2,child_3,child_1):\n",
    "    print(\"The youngest child is\",child_3)\n",
    "add(child_1=\"A\",child_2=\"B\",child_3=\"C\")"
   ]
  },
  {
   "cell_type": "markdown",
   "id": "6f7f05b8-0c10-4959-a963-35b0078c7975",
   "metadata": {},
   "source": [
    "### odd or even"
   ]
  },
  {
   "cell_type": "code",
   "execution_count": 1,
   "id": "ba1a417e-ffb3-4c03-9f70-ceca7f21e906",
   "metadata": {},
   "outputs": [
    {
     "name": "stdout",
     "output_type": "stream",
     "text": [
      "even\n"
     ]
    }
   ],
   "source": [
    "def odd_or_even(i):\n",
    "    if(i%2==0):\n",
    "        print(\"even\")\n",
    "    else:\n",
    "        print(\"odd\")\n",
    "odd_or_even(10)"
   ]
  },
  {
   "cell_type": "code",
   "execution_count": 2,
   "id": "580631a4-ce10-4ce0-b9b8-e0f63ba9c5d1",
   "metadata": {},
   "outputs": [
    {
     "name": "stdin",
     "output_type": "stream",
     "text": [
      "Enter your number: 5\n"
     ]
    },
    {
     "name": "stdout",
     "output_type": "stream",
     "text": [
      "odd\n"
     ]
    }
   ],
   "source": [
    "def odd_or_even(i):\n",
    "    if(i%2==0):\n",
    "        print(\"even\")\n",
    "    else:\n",
    "        print(\"odd\")\n",
    "odd_or_even(int(input(\"Enter your number:\")))"
   ]
  },
  {
   "cell_type": "markdown",
   "id": "0d810d15-1703-495f-87a1-8094fa888e53",
   "metadata": {},
   "source": [
    "### over writing"
   ]
  },
  {
   "cell_type": "code",
   "execution_count": 4,
   "id": "6f4b8f2c-1525-4869-8c8d-8e4a659e3019",
   "metadata": {},
   "outputs": [
    {
     "name": "stdout",
     "output_type": "stream",
     "text": [
      "Chennai is in India\n"
     ]
    }
   ],
   "source": [
    "def show_country(city,country=\"India\"):\n",
    "    print(f\"{city} is in {country}\")\n",
    "show_country(\"Chennai\")"
   ]
  },
  {
   "cell_type": "code",
   "execution_count": 1,
   "id": "805fc5ab-39dc-4519-8d50-219bb9286e9e",
   "metadata": {},
   "outputs": [
    {
     "name": "stdout",
     "output_type": "stream",
     "text": [
      "Chennai is in India\n",
      "Paris is in France\n"
     ]
    }
   ],
   "source": [
    "def show_country(city,country=\"India\"):\n",
    "    print(f\"{city} is in {country}\")\n",
    "show_country(\"Chennai\")\n",
    "show_country(\"Paris\",\"France\")"
   ]
  },
  {
   "cell_type": "code",
   "execution_count": 2,
   "id": "ac6d1a63-df0a-4176-95c6-70d62045e522",
   "metadata": {},
   "outputs": [
    {
     "name": "stdout",
     "output_type": "stream",
     "text": [
      "Chennai is in India\n",
      "Paris is in France\n"
     ]
    }
   ],
   "source": [
    "def show_country(city,country=\"India\"):\n",
    "    print(f\"{city} is in {country}\")\n",
    "show_country(\"Chennai\")\n",
    "coun=\"France\"\n",
    "show_country(\"Paris\",coun)"
   ]
  },
  {
   "cell_type": "code",
   "execution_count": 3,
   "id": "0d0590c5-74d2-415b-9c42-380c6d2026fe",
   "metadata": {},
   "outputs": [
    {
     "name": "stdout",
     "output_type": "stream",
     "text": [
      "Chennai is in City\n",
      "Paris is in France\n"
     ]
    }
   ],
   "source": [
    "def show_country(city,country=\"India\"):\n",
    "    print(f\"{city} is in {country}\")\n",
    "show_country(\"Chennai\",\"City\")\n",
    "coun=\"France\"\n",
    "show_country(\"Paris\",coun)"
   ]
  },
  {
   "cell_type": "markdown",
   "id": "90b19fa9-11f7-4038-aeb8-be2df025b74b",
   "metadata": {},
   "source": [
    "### arguments-argv"
   ]
  },
  {
   "cell_type": "code",
   "execution_count": 4,
   "id": "cd757436-c04f-4401-9b41-1035eacf6ecb",
   "metadata": {},
   "outputs": [
    {
     "name": "stdout",
     "output_type": "stream",
     "text": [
      "Hi\n",
      "my\n",
      "name\n",
      "Trishu\n",
      "Chennai\n",
      "City\n"
     ]
    }
   ],
   "source": [
    "def my_func(*argv):     # *all value to store the output\n",
    "    for i in argv:\n",
    "        print(i)\n",
    "my_func(\"Hi\",\"my\",\"name\",\"Trishu\",\"Chennai\",\"City\")"
   ]
  },
  {
   "cell_type": "code",
   "execution_count": 5,
   "id": "724bfb26-a56a-4eaa-ab94-36213ffdc9a1",
   "metadata": {},
   "outputs": [
    {
     "name": "stdout",
     "output_type": "stream",
     "text": [
      "Hi\n",
      "my\n",
      "name\n",
      "Trishu\n",
      "Chennai\n",
      "City\n",
      "My name is Trishu\n"
     ]
    }
   ],
   "source": [
    "def my_func(*argv):     \n",
    "    for i in argv:\n",
    "        print(i)\n",
    "    print(\"My name is\",argv[3])\n",
    "my_func(\"Hi\",\"my\",\"name\",\"Trishu\",\"Chennai\",\"City\")"
   ]
  },
  {
   "cell_type": "code",
   "execution_count": 6,
   "id": "215e852b-308c-4d34-b38c-c7b7d03e7b4d",
   "metadata": {},
   "outputs": [
    {
     "name": "stdout",
     "output_type": "stream",
     "text": [
      "Hi\n",
      "my\n",
      "name\n",
      "Trishu\n",
      "Chennai\n",
      "City\n"
     ]
    }
   ],
   "source": [
    "def my_func(*kids):\n",
    "    for i in kids:\n",
    "        print(i)\n",
    "my_func(\"Hi\",\"my\",\"name\",\"Trishu\",\"Chennai\",\"City\")"
   ]
  },
  {
   "cell_type": "code",
   "execution_count": 7,
   "id": "85bace8f-ea6b-40f5-9eac-f2b4e6561a2c",
   "metadata": {},
   "outputs": [
    {
     "name": "stdout",
     "output_type": "stream",
     "text": [
      "I am from Germany\n",
      "I am from France\n",
      "I am from India\n",
      "I am from England\n",
      "I am from India\n"
     ]
    }
   ],
   "source": [
    "def my_country(country=\"India\"):\n",
    "    print(\"I am from\",country)\n",
    "my_country(\"Germany\")\n",
    "my_country(\"France\")\n",
    "my_country()\n",
    "my_country(\"England\")\n",
    "my_country()"
   ]
  },
  {
   "cell_type": "markdown",
   "id": "65a8951c-04e2-43be-904a-eed143da45cb",
   "metadata": {},
   "source": [
    "### Nested Function"
   ]
  },
  {
   "cell_type": "code",
   "execution_count": 1,
   "id": "3f5c5a31-3042-400f-8cca-64b7eaa1af9b",
   "metadata": {},
   "outputs": [
    {
     "name": "stdout",
     "output_type": "stream",
     "text": [
      "The loop starts here:\n",
      "Hi,f1\n",
      "Hi,f2\n",
      "Hi,f3\n"
     ]
    }
   ],
   "source": [
    "def f1():\n",
    "    def f2():\n",
    "        def f3():\n",
    "            print(\"Hi,f3\")\n",
    "        print(\"Hi,f2\")\n",
    "        f3()\n",
    "    print(\"Hi,f1\")\n",
    "    f2()\n",
    "print(\"The loop starts here:\")\n",
    "f1()"
   ]
  },
  {
   "cell_type": "code",
   "execution_count": 3,
   "id": "be2f0d57-573c-4c7f-a1ea-7fc3decab8e6",
   "metadata": {},
   "outputs": [
    {
     "name": "stdout",
     "output_type": "stream",
     "text": [
      "data engineer\n",
      "I am a data analyst\n",
      "I am a data scientist\n",
      "the find a value: data engineer\n"
     ]
    }
   ],
   "source": [
    "def f1(a):    \n",
    "    print(a)                    # first f1 and f2\n",
    "    a=\"I am a data analyst\"\n",
    "    print(a)\n",
    "    def f2():\n",
    "        a=\"I am a data scientist\"\n",
    "        print(a)\n",
    "    f2()\n",
    "a=\"data engineer\"\n",
    "f1(a)\n",
    "print(\"the find a value:\",a)"
   ]
  },
  {
   "cell_type": "code",
   "execution_count": 4,
   "id": "159ea40f-525c-4517-8bb1-3f6c993dfa2a",
   "metadata": {},
   "outputs": [
    {
     "name": "stdout",
     "output_type": "stream",
     "text": [
      "I am a data scientist\n",
      "I am a data analyst\n"
     ]
    }
   ],
   "source": [
    "def f1():\n",
    "    s=\"I am a data scientist\"\n",
    "    print(s)\n",
    "    def f2():\n",
    "        s=\"I am a data analyst\"\n",
    "        print(s)\n",
    "    f2()\n",
    "f1()"
   ]
  },
  {
   "cell_type": "code",
   "execution_count": null,
   "id": "346b4b0a-d3fb-4a5e-9ed8-10817b0079ce",
   "metadata": {},
   "outputs": [],
   "source": []
  }
 ],
 "metadata": {
  "kernelspec": {
   "display_name": "Python [conda env:base] *",
   "language": "python",
   "name": "conda-base-py"
  },
  "language_info": {
   "codemirror_mode": {
    "name": "ipython",
    "version": 3
   },
   "file_extension": ".py",
   "mimetype": "text/x-python",
   "name": "python",
   "nbconvert_exporter": "python",
   "pygments_lexer": "ipython3",
   "version": "3.13.5"
  }
 },
 "nbformat": 4,
 "nbformat_minor": 5
}

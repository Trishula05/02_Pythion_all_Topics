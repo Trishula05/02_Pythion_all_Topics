{
 "cells": [
  {
   "cell_type": "markdown",
   "id": "45f8b7a7-0c77-42b6-beb3-f8aa59241cd1",
   "metadata": {},
   "source": [
    "## Chapter 4: f-string"
   ]
  },
  {
   "cell_type": "code",
   "execution_count": 1,
   "id": "fd5b8652-e887-41a0-941f-707c8e4b0c0b",
   "metadata": {},
   "outputs": [],
   "source": [
    "name=\"Trishula\"\n",
    "age=21\n",
    "college_name=\"SDNB Vaishnav\""
   ]
  },
  {
   "cell_type": "code",
   "execution_count": 6,
   "id": "01a6aaec-aba4-4ed7-b9f3-2abe2f41222d",
   "metadata": {},
   "outputs": [
    {
     "name": "stdout",
     "output_type": "stream",
     "text": [
      "The name of the student is Trishula and \n",
      "The age of the student is 21 and \n",
      "Student college name is SDNB Vaishnav\n"
     ]
    }
   ],
   "source": [
    "print(f\"The name of the student is {name} and \\nThe age of the student is {age} and \\nStudent college name is {college_name}\")"
   ]
  },
  {
   "cell_type": "code",
   "execution_count": 7,
   "id": "db1a3001-f72b-450e-81de-60e6f0f4f736",
   "metadata": {},
   "outputs": [],
   "source": [
    "Name=\"Trishu\""
   ]
  },
  {
   "cell_type": "code",
   "execution_count": 8,
   "id": "976adb33-3fa7-4310-8706-dcb2fdbe1c9a",
   "metadata": {},
   "outputs": [
    {
     "name": "stdout",
     "output_type": "stream",
     "text": [
      "Trishu\n"
     ]
    }
   ],
   "source": [
    "print(Name)"
   ]
  },
  {
   "cell_type": "code",
   "execution_count": 9,
   "id": "cc286858-e937-4df9-80ea-af6d9205e1c4",
   "metadata": {},
   "outputs": [
    {
     "name": "stdin",
     "output_type": "stream",
     "text": [
      " raja\n"
     ]
    },
    {
     "name": "stdout",
     "output_type": "stream",
     "text": [
      "raja\n"
     ]
    }
   ],
   "source": [
    "Name=input()\n",
    "print(Name)"
   ]
  },
  {
   "cell_type": "code",
   "execution_count": null,
   "id": "28c2a2ee-e809-4aae-a180-244f55b1cfd5",
   "metadata": {},
   "outputs": [],
   "source": []
  }
 ],
 "metadata": {
  "kernelspec": {
   "display_name": "Python [conda env:base] *",
   "language": "python",
   "name": "conda-base-py"
  },
  "language_info": {
   "codemirror_mode": {
    "name": "ipython",
    "version": 3
   },
   "file_extension": ".py",
   "mimetype": "text/x-python",
   "name": "python",
   "nbconvert_exporter": "python",
   "pygments_lexer": "ipython3",
   "version": "3.13.5"
  }
 },
 "nbformat": 4,
 "nbformat_minor": 5
}

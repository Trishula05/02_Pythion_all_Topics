{
 "cells": [
  {
   "cell_type": "markdown",
   "id": "5839789f-3af6-4520-9e54-f8a706853193",
   "metadata": {},
   "source": [
    "# Chapter 1 - Print Statement\n",
    "\n",
    "- String ---> \"Hello\"\n",
    "- Integer ---> 76\n",
    "- Float ---> 87.65\n",
    "- Boolean ---> True / False\n",
    "- () ---> Paranthesis\n",
    "- {} ---> Curly bracket\n",
    "- [] ---> Square Bracket"
   ]
  },
  {
   "cell_type": "code",
   "execution_count": 2,
   "id": "a8d7449a-7eb3-4317-a3b9-b82227549112",
   "metadata": {},
   "outputs": [
    {
     "name": "stdout",
     "output_type": "stream",
     "text": [
      "Hello World\n"
     ]
    }
   ],
   "source": [
    "print(\"Hello World\")"
   ]
  },
  {
   "cell_type": "code",
   "execution_count": 2,
   "id": "d43906ee-258a-4d61-a4f9-72573beb160f",
   "metadata": {},
   "outputs": [
    {
     "name": "stdout",
     "output_type": "stream",
     "text": [
      "G R Trishula\n"
     ]
    }
   ],
   "source": [
    "print(\"G R Trishula\")"
   ]
  },
  {
   "cell_type": "code",
   "execution_count": 8,
   "id": "a7649a08-bb55-4edd-9942-e15b91981b7f",
   "metadata": {},
   "outputs": [
    {
     "name": "stdout",
     "output_type": "stream",
     "text": [
      "True\n"
     ]
    }
   ],
   "source": [
    "print(True)"
   ]
  },
  {
   "cell_type": "code",
   "execution_count": 4,
   "id": "afb8e3ba-2271-4c31-8161-77a692ce3849",
   "metadata": {},
   "outputs": [
    {
     "name": "stdout",
     "output_type": "stream",
     "text": [
      "4.3\n"
     ]
    }
   ],
   "source": [
    "print(4.3)"
   ]
  },
  {
   "cell_type": "code",
   "execution_count": 9,
   "id": "9331849d-316c-4429-9d6c-a376e9190aba",
   "metadata": {},
   "outputs": [
    {
     "name": "stdout",
     "output_type": "stream",
     "text": [
      "Hello\n"
     ]
    }
   ],
   "source": [
    "print(\"Hello\")"
   ]
  }
 ],
 "metadata": {
  "kernelspec": {
   "display_name": "Python [conda env:base] *",
   "language": "python",
   "name": "conda-base-py"
  },
  "language_info": {
   "codemirror_mode": {
    "name": "ipython",
    "version": 3
   },
   "file_extension": ".py",
   "mimetype": "text/x-python",
   "name": "python",
   "nbconvert_exporter": "python",
   "pygments_lexer": "ipython3",
   "version": "3.13.5"
  }
 },
 "nbformat": 4,
 "nbformat_minor": 5
}

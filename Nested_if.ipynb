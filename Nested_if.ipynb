{
 "cells": [
  {
   "cell_type": "markdown",
   "id": "33a86a69-4980-48eb-87a6-6fc215d3813b",
   "metadata": {},
   "source": [
    "### Nested if"
   ]
  },
  {
   "cell_type": "markdown",
   "id": "0e73a978-fee0-456f-b764-5ab7847f9dc0",
   "metadata": {},
   "source": [
    "### Checking whether the year is leap year on not"
   ]
  },
  {
   "cell_type": "code",
   "execution_count": 4,
   "id": "2c5fc3a2-d373-4b2d-b60d-c2eea5565390",
   "metadata": {},
   "outputs": [
    {
     "name": "stdin",
     "output_type": "stream",
     "text": [
      "Enter the year: 2024\n"
     ]
    },
    {
     "name": "stdout",
     "output_type": "stream",
     "text": [
      "2024 is leap year because divisible by 4\n"
     ]
    }
   ],
   "source": [
    "year=int(input(\"Enter the year:\"))\n",
    "if(year%4==0):\n",
    "    if(year%100==0):\n",
    "        if(year%400==0):\n",
    "            print(f\"{year} is divisible by 4, 100, 400\")\n",
    "        else:\n",
    "            print(f\"{year} is non leap year because it is divisible by 4 and 100 but not by 400\")\n",
    "    else:\n",
    "        print(f\"{year} is leap year because divisible by 4\")\n",
    "else:\n",
    "    print(f\"{year} is a non leap year\")"
   ]
  },
  {
   "cell_type": "markdown",
   "id": "1172f6b4-cd82-47df-93a6-f1d9df4f7c1e",
   "metadata": {},
   "source": [
    "## ATM basic flow program"
   ]
  },
  {
   "cell_type": "code",
   "execution_count": 1,
   "id": "6b84c9b7-f55a-4da0-b80f-908f5d64aca6",
   "metadata": {},
   "outputs": [
    {
     "name": "stdout",
     "output_type": "stream",
     "text": [
      "Welcome to the SBI ATM\n"
     ]
    },
    {
     "name": "stdin",
     "output_type": "stream",
     "text": [
      "Select the following statements (Withdraw (Press W), Balance enquiry(Press B), Statement check(Press S)) w\n"
     ]
    },
    {
     "name": "stdout",
     "output_type": "stream",
     "text": [
      "You have selected Withdraw option\n"
     ]
    },
    {
     "name": "stdin",
     "output_type": "stream",
     "text": [
      "Please Select your account type (Current (Press C) Savings(Press S)): s\n"
     ]
    },
    {
     "name": "stdout",
     "output_type": "stream",
     "text": [
      "You have selected Savings account\n"
     ]
    },
    {
     "name": "stdin",
     "output_type": "stream",
     "text": [
      "Enter your withdraw amount: 2500\n",
      "Enter your 4-digit pin number: 5555\n"
     ]
    },
    {
     "name": "stdout",
     "output_type": "stream",
     "text": [
      "Your PIN number is Valid\n",
      "You have successfully withdrawn your amount The Balance amount in your account is:3500\n"
     ]
    }
   ],
   "source": [
    "print(\"Welcome to the SBI ATM\")\n",
    "check=input(\"Select the following statements (Withdraw (Press W), Balance enquiry(Press B), Statement check(Press S))\").upper()\n",
    "if check=='W':\n",
    "    print(\"You have selected Withdraw option\")\n",
    "    check_1=input(\"Please Select your account type (Current (Press C) Savings(Press S)):\").upper()\n",
    "    if check_1=='S':\n",
    "        pin=5555\n",
    "        amount=6000\n",
    "        print(\"You have selected Savings account\")\n",
    "        Amount=int(input(\"Enter your withdraw amount:\"))\n",
    "        Pin=int(input(\"Enter your 4-digit pin number:\"))\n",
    "        if pin==Pin:\n",
    "            print(\"Your PIN number is Valid\")\n",
    "            if Amount > amount:\n",
    "                print(f\"Insuffient balance your have {amount}\")\n",
    "            else: \n",
    "                print(f\"You have successfully withdrawn your amount The Balance amount in your account is:{amount - Amount}\")\n",
    "        else:\n",
    "            print(f\"{Pin} your pin number is invalid\")\n",
    "            "
   ]
  },
  {
   "cell_type": "code",
   "execution_count": 22,
   "id": "5d2b3c20-015a-4fcf-8bc3-c7aa5f1f58b1",
   "metadata": {},
   "outputs": [
    {
     "name": "stdout",
     "output_type": "stream",
     "text": [
      "Welcome to the SBI ATM\n"
     ]
    },
    {
     "name": "stdin",
     "output_type": "stream",
     "text": [
      "Select the following statements (Withdraw (Press W), Balance enquiry(Press B), Statement check(Press S)) w\n"
     ]
    },
    {
     "name": "stdout",
     "output_type": "stream",
     "text": [
      "You have selected Withdraw option\n"
     ]
    },
    {
     "name": "stdin",
     "output_type": "stream",
     "text": [
      "Please Select your account type (Current (Press C) Savings(Press S)): c\n"
     ]
    },
    {
     "name": "stdout",
     "output_type": "stream",
     "text": [
      "You have selected Current account:\n"
     ]
    },
    {
     "name": "stdin",
     "output_type": "stream",
     "text": [
      "You are taking loan (Yes/No): Yes\n",
      "Enter your age: 25\n",
      "Enter your salary: 65000\n"
     ]
    },
    {
     "name": "stdout",
     "output_type": "stream",
     "text": [
      "You are eligible to take the loan\n",
      "You are eligible to take the loan\n"
     ]
    }
   ],
   "source": [
    "print(\"Welcome to the SBI ATM\")\n",
    "check=input(\"Select the following statements (Withdraw (Press W), Balance enquiry(Press B), Statement check(Press S))\").upper()\n",
    "if check=='W':\n",
    "    print(\"You have selected Withdraw option\")\n",
    "    check_1=input(\"Please Select your account type (Current (Press C) Savings(Press S)):\").upper()\n",
    "    if check_1=='C':\n",
    "        print(\"You have selected Current account:\")\n",
    "        check_2=input(\"You are taking loan (Yes/No):\")\n",
    "        if check_2=='Yes':\n",
    "            Age=int(input(\"Enter your age:\"))\n",
    "            Salary=int(input(\"Enter your salary:\"))\n",
    "            age=25\n",
    "            salary=65000\n",
    "            if Age>=age:\n",
    "                print(\"You are eligible to take the loan\")\n",
    "                if Salary>=salary:\n",
    "                    print(\"You are eligible to take the loan\")\n",
    "                else:\n",
    "                    print(\"You are not eligible\")\n",
    "            else:\n",
    "                print(\"You'r age is not eligible to take the loan\")\n",
    "        else:\n",
    "            print(\"Thank you\")"
   ]
  },
  {
   "cell_type": "markdown",
   "id": "f4c22b5d-6fda-45f3-9d4d-8a39586ce293",
   "metadata": {},
   "source": [
    "### To find whether the number is odd or even"
   ]
  },
  {
   "cell_type": "code",
   "execution_count": 1,
   "id": "82d17838-ef31-40d0-884c-d1747e3c8535",
   "metadata": {},
   "outputs": [
    {
     "name": "stdout",
     "output_type": "stream",
     "text": [
      "1 is odd number\n",
      "2 is even number\n",
      "3 is odd number\n",
      "4 is even number\n",
      "5 is odd number\n",
      "6 is even number\n",
      "7 is odd number\n",
      "8 is even number\n",
      "9 is odd number\n",
      "10 is even number\n",
      "11 is odd number\n",
      "12 is even number\n",
      "13 is odd number\n",
      "14 is even number\n",
      "15 is odd number\n",
      "16 is even number\n",
      "17 is odd number\n",
      "18 is even number\n",
      "19 is odd number\n",
      "20 is even number\n"
     ]
    }
   ],
   "source": [
    "for i in range(1,21):\n",
    "    if(i%2==0):\n",
    "        print(f\"{i} is even number\")\n",
    "    else:\n",
    "        print(f\"{i} is odd number\")"
   ]
  },
  {
   "cell_type": "markdown",
   "id": "d7c1b2e0-edfe-4571-a68e-5233201e0800",
   "metadata": {},
   "source": [
    "### Odd or even"
   ]
  },
  {
   "cell_type": "code",
   "execution_count": 2,
   "id": "a741ce9a-9375-4ece-9e3d-0b405d949a2b",
   "metadata": {},
   "outputs": [
    {
     "name": "stdout",
     "output_type": "stream",
     "text": [
      "10 total even number is the range b1 to 21\n",
      "10 total odd number is the range b1 to 21\n",
      "[1, 3, 5, 7, 9, 11, 13, 15, 17, 19]\n",
      "[2, 4, 6, 8, 10, 12, 14, 16, 18, 20]\n"
     ]
    }
   ],
   "source": [
    "odd=0\n",
    "even=0\n",
    "odd_1=[]\n",
    "even_1=[]\n",
    "for i in range(1,21):\n",
    "    if(i%2==0):\n",
    "        even=even+1\n",
    "        even_1.append(i)\n",
    "    else:\n",
    "        odd=odd+1\n",
    "        odd_1.append(i)\n",
    "print(f\"{even} total even number is the range b1 to 21\")\n",
    "print(f\"{odd} total odd number is the range b1 to 21\")\n",
    "print(odd_1)\n",
    "print(even_1)"
   ]
  },
  {
   "cell_type": "code",
   "execution_count": 9,
   "id": "7d0d68b2-2df9-4bbf-b00d-6600328241c7",
   "metadata": {},
   "outputs": [
    {
     "name": "stdout",
     "output_type": "stream",
     "text": [
      "odd total number\n",
      "[15, 30, 45, 60, 75, 90]\n"
     ]
    }
   ],
   "source": [
    "odd=0\n",
    "even=[]\n",
    "for i in range(1,101):\n",
    "    if(i%3==0 and i%5==0):\n",
    "        odd=odd+1\n",
    "        even.append(i)\n",
    "print(f\"odd total number\")\n",
    "print(even)"
   ]
  },
  {
   "cell_type": "code",
   "execution_count": 4,
   "id": "8a655344-c3a1-4957-9a04-700ade63ba1c",
   "metadata": {},
   "outputs": [
    {
     "name": "stdout",
     "output_type": "stream",
     "text": [
      "[10, 20]\n"
     ]
    }
   ],
   "source": [
    "a=[10]\n",
    "b=a\n",
    "a.append(20)\n",
    "print(b)"
   ]
  },
  {
   "cell_type": "markdown",
   "id": "937b9aa5-72a5-4dc2-a550-be53f4168952",
   "metadata": {},
   "source": [
    "### Nested for loop"
   ]
  },
  {
   "cell_type": "code",
   "execution_count": 5,
   "id": "29919291-5122-4864-844f-9d334703e4e8",
   "metadata": {},
   "outputs": [
    {
     "name": "stdout",
     "output_type": "stream",
     "text": [
      "1 1\n",
      "1 2\n",
      "1 3\n",
      "1 4\n",
      "1 5\n",
      "2 1\n",
      "2 2\n",
      "2 3\n",
      "2 4\n",
      "2 5\n",
      "3 1\n",
      "3 2\n",
      "3 3\n",
      "3 4\n",
      "3 5\n",
      "4 1\n",
      "4 2\n",
      "4 3\n",
      "4 4\n",
      "4 5\n",
      "5 1\n",
      "5 2\n",
      "5 3\n",
      "5 4\n",
      "5 5\n",
      "6 1\n",
      "6 2\n",
      "6 3\n",
      "6 4\n",
      "6 5\n",
      "7 1\n",
      "7 2\n",
      "7 3\n",
      "7 4\n",
      "7 5\n",
      "8 1\n",
      "8 2\n",
      "8 3\n",
      "8 4\n",
      "8 5\n",
      "9 1\n",
      "9 2\n",
      "9 3\n",
      "9 4\n",
      "9 5\n",
      "10 1\n",
      "10 2\n",
      "10 3\n",
      "10 4\n",
      "10 5\n"
     ]
    }
   ],
   "source": [
    "for i in range(1,11):\n",
    "    for j in range(1,6):\n",
    "        print(i,j)"
   ]
  },
  {
   "cell_type": "code",
   "execution_count": 6,
   "id": "b703bb21-07b9-406d-b1ba-db85e4ece4aa",
   "metadata": {},
   "outputs": [
    {
     "name": "stdout",
     "output_type": "stream",
     "text": [
      "1 1 1\n",
      "1 1 2\n",
      "1 1 3\n",
      "1 2 1\n",
      "1 2 2\n",
      "1 2 3\n",
      "1 3 1\n",
      "1 3 2\n",
      "1 3 3\n",
      "1 4 1\n",
      "1 4 2\n",
      "1 4 3\n",
      "1 5 1\n",
      "1 5 2\n",
      "1 5 3\n",
      "2 1 1\n",
      "2 1 2\n",
      "2 1 3\n",
      "2 2 1\n",
      "2 2 2\n",
      "2 2 3\n",
      "2 3 1\n",
      "2 3 2\n",
      "2 3 3\n",
      "2 4 1\n",
      "2 4 2\n",
      "2 4 3\n",
      "2 5 1\n",
      "2 5 2\n",
      "2 5 3\n",
      "3 1 1\n",
      "3 1 2\n",
      "3 1 3\n",
      "3 2 1\n",
      "3 2 2\n",
      "3 2 3\n",
      "3 3 1\n",
      "3 3 2\n",
      "3 3 3\n",
      "3 4 1\n",
      "3 4 2\n",
      "3 4 3\n",
      "3 5 1\n",
      "3 5 2\n",
      "3 5 3\n",
      "4 1 1\n",
      "4 1 2\n",
      "4 1 3\n",
      "4 2 1\n",
      "4 2 2\n",
      "4 2 3\n",
      "4 3 1\n",
      "4 3 2\n",
      "4 3 3\n",
      "4 4 1\n",
      "4 4 2\n",
      "4 4 3\n",
      "4 5 1\n",
      "4 5 2\n",
      "4 5 3\n",
      "5 1 1\n",
      "5 1 2\n",
      "5 1 3\n",
      "5 2 1\n",
      "5 2 2\n",
      "5 2 3\n",
      "5 3 1\n",
      "5 3 2\n",
      "5 3 3\n",
      "5 4 1\n",
      "5 4 2\n",
      "5 4 3\n",
      "5 5 1\n",
      "5 5 2\n",
      "5 5 3\n",
      "6 1 1\n",
      "6 1 2\n",
      "6 1 3\n",
      "6 2 1\n",
      "6 2 2\n",
      "6 2 3\n",
      "6 3 1\n",
      "6 3 2\n",
      "6 3 3\n",
      "6 4 1\n",
      "6 4 2\n",
      "6 4 3\n",
      "6 5 1\n",
      "6 5 2\n",
      "6 5 3\n",
      "7 1 1\n",
      "7 1 2\n",
      "7 1 3\n",
      "7 2 1\n",
      "7 2 2\n",
      "7 2 3\n",
      "7 3 1\n",
      "7 3 2\n",
      "7 3 3\n",
      "7 4 1\n",
      "7 4 2\n",
      "7 4 3\n",
      "7 5 1\n",
      "7 5 2\n",
      "7 5 3\n",
      "8 1 1\n",
      "8 1 2\n",
      "8 1 3\n",
      "8 2 1\n",
      "8 2 2\n",
      "8 2 3\n",
      "8 3 1\n",
      "8 3 2\n",
      "8 3 3\n",
      "8 4 1\n",
      "8 4 2\n",
      "8 4 3\n",
      "8 5 1\n",
      "8 5 2\n",
      "8 5 3\n",
      "9 1 1\n",
      "9 1 2\n",
      "9 1 3\n",
      "9 2 1\n",
      "9 2 2\n",
      "9 2 3\n",
      "9 3 1\n",
      "9 3 2\n",
      "9 3 3\n",
      "9 4 1\n",
      "9 4 2\n",
      "9 4 3\n",
      "9 5 1\n",
      "9 5 2\n",
      "9 5 3\n",
      "10 1 1\n",
      "10 1 2\n",
      "10 1 3\n",
      "10 2 1\n",
      "10 2 2\n",
      "10 2 3\n",
      "10 3 1\n",
      "10 3 2\n",
      "10 3 3\n",
      "10 4 1\n",
      "10 4 2\n",
      "10 4 3\n",
      "10 5 1\n",
      "10 5 2\n",
      "10 5 3\n"
     ]
    }
   ],
   "source": [
    "for i in range(1,11):\n",
    "    for j in range(1,6):\n",
    "        for k in range(1,4):\n",
    "            print(i,j,k)"
   ]
  },
  {
   "cell_type": "code",
   "execution_count": 8,
   "id": "aefe79e6-8ebe-4563-95d5-a49f73b4fe63",
   "metadata": {},
   "outputs": [
    {
     "name": "stdout",
     "output_type": "stream",
     "text": [
      "N\n",
      "e\n",
      "x\n",
      "i\n",
      "l\n",
      "a\n"
     ]
    }
   ],
   "source": [
    "name=\"Nexila\"\n",
    "for i in name:\n",
    "    print(i)"
   ]
  },
  {
   "cell_type": "code",
   "execution_count": 9,
   "id": "0819e40a-98b5-4b8c-bd20-c2b59bc1c67e",
   "metadata": {},
   "outputs": [
    {
     "name": "stdout",
     "output_type": "stream",
     "text": [
      "N\n",
      "e\n",
      "x\n",
      "i\n",
      "l\n",
      "a\n"
     ]
    }
   ],
   "source": [
    "name=\"Nexila\"\n",
    "for i in \"Nexila\":\n",
    "    print(i)"
   ]
  },
  {
   "cell_type": "code",
   "execution_count": 11,
   "id": "65d243f9-d146-49f7-8c1d-4b0cc5afdd38",
   "metadata": {},
   "outputs": [
    {
     "name": "stdout",
     "output_type": "stream",
     "text": [
      "Nexila\n",
      "Tech\n",
      "Chennai\n"
     ]
    }
   ],
   "source": [
    "name=[\"Nexila\",\"Tech\",\"Chennai\"]\n",
    "for i in name:\n",
    "    print(i)"
   ]
  },
  {
   "cell_type": "code",
   "execution_count": 13,
   "id": "b8ed141c-436c-482d-8131-95c0b8f83f81",
   "metadata": {},
   "outputs": [
    {
     "name": "stdout",
     "output_type": "stream",
     "text": [
      "N\n",
      "e\n",
      "x\n",
      "i\n",
      "l\n",
      "a\n",
      "T\n",
      "e\n",
      "c\n",
      "h\n",
      "C\n",
      "h\n",
      "e\n",
      "n\n",
      "n\n",
      "a\n",
      "i\n"
     ]
    }
   ],
   "source": [
    "name=[\"Nexila\",\"Tech\",\"Chennai\"]\n",
    "for i in name:\n",
    "    for j in i:\n",
    "        print(j)"
   ]
  },
  {
   "cell_type": "code",
   "execution_count": null,
   "id": "92ac7645-f374-42e4-9bae-66fff13adf58",
   "metadata": {},
   "outputs": [],
   "source": []
  }
 ],
 "metadata": {
  "kernelspec": {
   "display_name": "Python [conda env:base] *",
   "language": "python",
   "name": "conda-base-py"
  },
  "language_info": {
   "codemirror_mode": {
    "name": "ipython",
    "version": 3
   },
   "file_extension": ".py",
   "mimetype": "text/x-python",
   "name": "python",
   "nbconvert_exporter": "python",
   "pygments_lexer": "ipython3",
   "version": "3.13.5"
  }
 },
 "nbformat": 4,
 "nbformat_minor": 5
}

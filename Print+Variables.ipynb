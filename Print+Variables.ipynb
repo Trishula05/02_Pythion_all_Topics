{
 "cells": [
  {
   "cell_type": "markdown",
   "id": "b6763a75-3482-4d3f-9ec3-ef3fd3d044a6",
   "metadata": {},
   "source": [
    "## Chapter 3: Print+variables"
   ]
  },
  {
   "cell_type": "code",
   "execution_count": 2,
   "id": "0e3b2696-da23-4bfa-b265-9c48f5d89155",
   "metadata": {},
   "outputs": [],
   "source": [
    "driver_name=\"Raji\""
   ]
  },
  {
   "cell_type": "code",
   "execution_count": 3,
   "id": "ea1c4a60-9353-462a-ad0f-a0fa59016503",
   "metadata": {},
   "outputs": [
    {
     "name": "stdout",
     "output_type": "stream",
     "text": [
      "The driver name is Raji\n"
     ]
    }
   ],
   "source": [
    "print(\"The driver name is\",driver_name)"
   ]
  },
  {
   "cell_type": "code",
   "execution_count": 4,
   "id": "bd677b32-557e-4a84-8edd-47dce2338581",
   "metadata": {},
   "outputs": [],
   "source": [
    "name=\"Trishula\"\n",
    "age=21\n",
    "college_name=\"SDNB Vaishnav\""
   ]
  },
  {
   "cell_type": "code",
   "execution_count": 12,
   "id": "33223ffb-5d3f-43b8-89c2-d162e37e76c5",
   "metadata": {},
   "outputs": [
    {
     "name": "stdout",
     "output_type": "stream",
     "text": [
      "The name of the student is Trishula The age of the student is 21 Student college name is SDNB Vaishnav\n"
     ]
    }
   ],
   "source": [
    "print(\"The name of the student is\",name,\"The age of the student is\",age,\"Student college name is\",college_name)"
   ]
  },
  {
   "cell_type": "code",
   "execution_count": 16,
   "id": "cf8ab1ee-9719-4762-be72-5001e95d6057",
   "metadata": {},
   "outputs": [
    {
     "name": "stdout",
     "output_type": "stream",
     "text": [
      "The name of the student is Trishula \n",
      "The age of the student is 21 \n",
      "Student college name is SDNB Vaishnav\n"
     ]
    }
   ],
   "source": [
    "print(\"The name of the student is\",name,\"\\nThe age of the student is\",age,\"\\nStudent college name is\",college_name)"
   ]
  },
  {
   "cell_type": "code",
   "execution_count": null,
   "id": "bead17e4-93b7-4025-8c15-dd71d755c35b",
   "metadata": {},
   "outputs": [],
   "source": []
  }
 ],
 "metadata": {
  "kernelspec": {
   "display_name": "Python [conda env:base] *",
   "language": "python",
   "name": "conda-base-py"
  },
  "language_info": {
   "codemirror_mode": {
    "name": "ipython",
    "version": 3
   },
   "file_extension": ".py",
   "mimetype": "text/x-python",
   "name": "python",
   "nbconvert_exporter": "python",
   "pygments_lexer": "ipython3",
   "version": "3.13.5"
  }
 },
 "nbformat": 4,
 "nbformat_minor": 5
}

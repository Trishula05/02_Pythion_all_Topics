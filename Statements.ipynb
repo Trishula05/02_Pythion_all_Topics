{
 "cells": [
  {
   "cell_type": "markdown",
   "id": "5d5cbe1d-17fb-47ed-9b06-5cf73d4ba2d8",
   "metadata": {},
   "source": [
    "### Statements"
   ]
  },
  {
   "cell_type": "markdown",
   "id": "5fc95228-81b3-4c82-be06-fe992818a970",
   "metadata": {},
   "source": [
    "### if-else"
   ]
  },
  {
   "cell_type": "code",
   "execution_count": 39,
   "id": "e8c02b9b-e38f-4ee1-868c-e596435fada6",
   "metadata": {},
   "outputs": [
    {
     "name": "stdin",
     "output_type": "stream",
     "text": [
      "Enter your age for voter Eligibility: 20\n"
     ]
    },
    {
     "name": "stdout",
     "output_type": "stream",
     "text": [
      "You are eligible\n"
     ]
    }
   ],
   "source": [
    "Age=int(input(\"Enter your age for voter Eligibility:\"))\n",
    "if(Age>=18):\n",
    "    print(\"You are eligible\")\n",
    "else:\n",
    "    print(\"You are not eligible\")"
   ]
  },
  {
   "cell_type": "code",
   "execution_count": 40,
   "id": "04174adb-3c6e-4568-a188-8db3c6dc3398",
   "metadata": {},
   "outputs": [
    {
     "name": "stdin",
     "output_type": "stream",
     "text": [
      "Enter the number: 6\n"
     ]
    },
    {
     "name": "stdout",
     "output_type": "stream",
     "text": [
      "Number is Positive\n"
     ]
    }
   ],
   "source": [
    "Number=int(input(\"Enter the number:\"))\n",
    "if(Number>0):\n",
    "    print(\"Number is Positive\")\n",
    "else:\n",
    "    print(\"Number is Negative\")"
   ]
  },
  {
   "cell_type": "code",
   "execution_count": 1,
   "id": "644cab2a-e585-4a20-a430-e276fcf83df9",
   "metadata": {},
   "outputs": [
    {
     "name": "stdin",
     "output_type": "stream",
     "text": [
      "Enter the number: 5\n"
     ]
    },
    {
     "name": "stdout",
     "output_type": "stream",
     "text": [
      "Number is Positive\n"
     ]
    }
   ],
   "source": [
    "Number=int(input(\"Enter the number:\"))\n",
    "if(Number>0):\n",
    "    print(\"Number is Positive\")\n",
    "else:\n",
    "    print(\"Number is Negative\")"
   ]
  },
  {
   "cell_type": "code",
   "execution_count": 3,
   "id": "85608ae5-c31e-4b30-a7f7-97979654163d",
   "metadata": {},
   "outputs": [
    {
     "name": "stdin",
     "output_type": "stream",
     "text": [
      "Enter the Number: 100\n"
     ]
    },
    {
     "name": "stdout",
     "output_type": "stream",
     "text": [
      " 100 is not divisible by 3 it is odd number\n"
     ]
    }
   ],
   "source": [
    "Number=int(input(\"Enter the Number:\"))\n",
    "if(Number%3==0):\n",
    "    print(f\" {Number} is divisible by 3 it is even number\")\n",
    "else:\n",
    "    print(f\" {Number} is not divisible by 3 it is odd number\")"
   ]
  },
  {
   "cell_type": "code",
   "execution_count": 4,
   "id": "86d7e7ee-4988-4877-839d-e7b77b876dcf",
   "metadata": {},
   "outputs": [
    {
     "name": "stdin",
     "output_type": "stream",
     "text": [
      "Enter the marks: 68\n"
     ]
    },
    {
     "name": "stdout",
     "output_type": "stream",
     "text": [
      "He is Pass\n"
     ]
    }
   ],
   "source": [
    "Mark=int(input(\"Enter the marks:\"))\n",
    "if(Mark>50):\n",
    "    print(\"He is Pass\")\n",
    "else:\n",
    "    print(\"He is fail\")"
   ]
  },
  {
   "cell_type": "code",
   "execution_count": 20,
   "id": "2ef0d6c6-dc7e-4011-ab34-72131646ae4d",
   "metadata": {},
   "outputs": [
    {
     "name": "stdin",
     "output_type": "stream",
     "text": [
      "Enter the marks: 48\n"
     ]
    },
    {
     "name": "stdout",
     "output_type": "stream",
     "text": [
      "He is fail\n"
     ]
    }
   ],
   "source": [
    "Mark=int(input(\"Enter the marks:\"))\n",
    "if(Mark>50):\n",
    "    print(\"He is Pass\")\n",
    "else:\n",
    "    print(\"He is fail\")"
   ]
  },
  {
   "cell_type": "markdown",
   "id": "0cbb79c7-bf25-4175-8df4-9d5e15d0f4b7",
   "metadata": {},
   "source": [
    "### elif"
   ]
  },
  {
   "cell_type": "markdown",
   "id": "9495ce67-d1a8-4b64-9da0-3489b8ad1dea",
   "metadata": {},
   "source": [
    "### Grade calculator"
   ]
  },
  {
   "cell_type": "code",
   "execution_count": 37,
   "id": "4e3b64e6-cdce-4eac-a3c4-bbb588a757b9",
   "metadata": {},
   "outputs": [
    {
     "name": "stdin",
     "output_type": "stream",
     "text": [
      "Enter the marks 89\n"
     ]
    },
    {
     "name": "stdout",
     "output_type": "stream",
     "text": [
      "Your mark is 89 and your Grade is A\n"
     ]
    }
   ],
   "source": [
    "Mark=int(input(\"Enter the marks\"))\n",
    "if(Mark>=91 and Mark<=100):\n",
    "    print(f\"Your mark is {Mark} and your Grade is A+\")\n",
    "elif(Mark>=81 and Mark<=90):\n",
    "    print(f\"Your mark is {Mark} and your Grade is A\")\n",
    "elif(Mark>=71 and Mark<=80):\n",
    "    print(f\"Your mark is {Mark} and your Grade is B+\")\n",
    "elif(Mark>=61 and Mark<=70):\n",
    "    print(f\"Your mark is {Mark} and your Grade is B\")\n",
    "elif(Mark<50):\n",
    "    print(\"You failed\")"
   ]
  },
  {
   "cell_type": "markdown",
   "id": "5fc961f3-9db3-4ab5-bc0d-3228e785a682",
   "metadata": {},
   "source": [
    "### Find the largest number"
   ]
  },
  {
   "cell_type": "code",
   "execution_count": 38,
   "id": "74f8535b-8173-4150-bcf8-05ca7e165706",
   "metadata": {},
   "outputs": [
    {
     "name": "stdin",
     "output_type": "stream",
     "text": [
      "Enter the number a: 5\n",
      "Enter the number b: 5.3\n",
      "Enter the number c: 10.5\n"
     ]
    },
    {
     "name": "stdout",
     "output_type": "stream",
     "text": [
      "c is the largest number\n"
     ]
    }
   ],
   "source": [
    "a=float(input(\"Enter the number a:\"))\n",
    "b=float(input(\"Enter the number b:\"))\n",
    "c=float(input(\"Enter the number c:\"))\n",
    "if(a>b and a>c):\n",
    "    print(\"a is the largest number\")\n",
    "elif(b>a and b>c):\n",
    "    print(\"b is the largest number\")\n",
    "elif(c>a and c>b):\n",
    "    print(\"c is the largest number\")"
   ]
  },
  {
   "cell_type": "markdown",
   "id": "524ab8d7-34d1-4801-8976-db72c3bf404e",
   "metadata": {},
   "source": [
    "### Vowels/consonants"
   ]
  },
  {
   "cell_type": "code",
   "execution_count": 2,
   "id": "39c69b5e-0a8e-4b65-b245-580cb13efbab",
   "metadata": {},
   "outputs": [
    {
     "name": "stdin",
     "output_type": "stream",
     "text": [
      "Enter the Letter: a\n"
     ]
    },
    {
     "name": "stdout",
     "output_type": "stream",
     "text": [
      "It is Vowels\n"
     ]
    }
   ],
   "source": [
    "Letter=input(\"Enter the Letter:\")\n",
    "if Letter in('a','e','i','o','u'):\n",
    "    print(\"It is Vowels\")\n",
    "else:\n",
    "    print(\"It is Consonents\")"
   ]
  },
  {
   "cell_type": "code",
   "execution_count": 4,
   "id": "c64a8128-97bb-47ea-a675-4db97aa1c9a7",
   "metadata": {},
   "outputs": [
    {
     "name": "stdin",
     "output_type": "stream",
     "text": [
      "Enter the pass: Trishula\n"
     ]
    },
    {
     "name": "stdout",
     "output_type": "stream",
     "text": [
      "8\n"
     ]
    }
   ],
   "source": [
    "a=input(\"Enter the pass:\")\n",
    "print(len(a))"
   ]
  },
  {
   "cell_type": "code",
   "execution_count": 3,
   "id": "8f6a6fa1-fd10-4b09-9179-724c05cb95cc",
   "metadata": {},
   "outputs": [
    {
     "name": "stdin",
     "output_type": "stream",
     "text": [
      "Enter the Letter: E\n"
     ]
    },
    {
     "name": "stdout",
     "output_type": "stream",
     "text": [
      "It is Vowels\n"
     ]
    }
   ],
   "source": [
    "Letter=input(\"Enter the Letter:\").lower()\n",
    "if Letter in('a','e','i','o','u'):\n",
    "    print(\"It is Vowels\")\n",
    "else:\n",
    "    print(\"It is Consonents\")"
   ]
  },
  {
   "cell_type": "markdown",
   "id": "ea0a7674-a131-4727-9253-34e3eee235be",
   "metadata": {},
   "source": [
    "### len\n"
   ]
  },
  {
   "cell_type": "code",
   "execution_count": 7,
   "id": "bae903f4-3aa3-46c8-884a-3696a05adcc3",
   "metadata": {},
   "outputs": [
    {
     "name": "stdout",
     "output_type": "stream",
     "text": [
      "<class 'int'>\n",
      "8\n"
     ]
    }
   ],
   "source": [
    "a=\"Trishula\"\n",
    "length=len(a)\n",
    "print(type(length))\n",
    "print(length)"
   ]
  },
  {
   "cell_type": "markdown",
   "id": "c99de304-8e37-4d0f-8bac-465db02f9c01",
   "metadata": {},
   "source": [
    "### Password (important)"
   ]
  },
  {
   "cell_type": "code",
   "execution_count": 11,
   "id": "6bb1d880-ecfc-47de-b0dc-801722c08b0b",
   "metadata": {},
   "outputs": [
    {
     "name": "stdin",
     "output_type": "stream",
     "text": [
      "Enter your Password: Trishula\n"
     ]
    },
    {
     "name": "stdout",
     "output_type": "stream",
     "text": [
      "Trishula is weak password\n"
     ]
    }
   ],
   "source": [
    "password=input(\"Enter your Password:\")\n",
    "if len(password)<=8:\n",
    "    print(f\"{password} is weak password\")\n",
    "elif len(password)>8:\n",
    "    print(f\"{password} is strong password\")"
   ]
  },
  {
   "cell_type": "code",
   "execution_count": 26,
   "id": "632888e0-64ce-4674-8d53-f54924210f72",
   "metadata": {},
   "outputs": [
    {
     "name": "stdin",
     "output_type": "stream",
     "text": [
      "Enter the number1: 5\n",
      "Enter the number2: 5\n",
      "Enter the operator(+,-,*,/): -\n"
     ]
    },
    {
     "name": "stdout",
     "output_type": "stream",
     "text": [
      "5, 5 subtracted value is 0\n"
     ]
    }
   ],
   "source": [
    "number1=int(input(\"Enter the number1:\"))\n",
    "number2=int(input(\"Enter the number2:\"))\n",
    "op=input(\"Enter the operator(+,-,*,/):\")\n",
    "if(op=='+'):\n",
    "    print(f\"{number1}, {number2} additional value is {number1+number2}\")\n",
    "elif(op=='-'):\n",
    "    print(f\"{number1}, {number2} subtracted value is {number1-number2}\")\n",
    "elif(op=='*'):\n",
    "    print(f\"{number1}, {number2} multiplied value is {number1*number2}\")\n",
    "elif(op=='/'):\n",
    "    print(f\"{number1}, {number2} divided value is {number1/number2}\")\n",
    "else:\n",
    "    print(f\"Invalid operator please select the valid operator\")"
   ]
  },
  {
   "cell_type": "markdown",
   "id": "a6a3b223-c24f-4898-b476-cb2d665bde21",
   "metadata": {},
   "source": [
    "### Checking whether the triangle is valid or not \n"
   ]
  },
  {
   "cell_type": "code",
   "execution_count": 28,
   "id": "502ffa01-5ed4-4f79-8478-efe32180234a",
   "metadata": {},
   "outputs": [
    {
     "name": "stdin",
     "output_type": "stream",
     "text": [
      "Enter the Angle1: 60\n",
      "Enter the Angle2: 70\n",
      "Enter the Angle3: 45\n"
     ]
    },
    {
     "name": "stdout",
     "output_type": "stream",
     "text": [
      "It is invalid triangle\n"
     ]
    }
   ],
   "source": [
    "angle1=int(input(\"Enter the Angle1:\"))\n",
    "angle2=int(input(\"Enter the Angle2:\"))\n",
    "angle3=int(input(\"Enter the Angle3:\"))\n",
    "if angle1+angle2+angle3 == 180:\n",
    "    print(\"It is a valid triangle\")\n",
    "else:\n",
    "    print(\"It is invalid triangle\")"
   ]
  },
  {
   "cell_type": "code",
   "execution_count": null,
   "id": "7fef4311-1615-43f3-83e3-ecf45814947b",
   "metadata": {},
   "outputs": [],
   "source": []
  }
 ],
 "metadata": {
  "kernelspec": {
   "display_name": "Python [conda env:base] *",
   "language": "python",
   "name": "conda-base-py"
  },
  "language_info": {
   "codemirror_mode": {
    "name": "ipython",
    "version": 3
   },
   "file_extension": ".py",
   "mimetype": "text/x-python",
   "name": "python",
   "nbconvert_exporter": "python",
   "pygments_lexer": "ipython3",
   "version": "3.13.5"
  }
 },
 "nbformat": 4,
 "nbformat_minor": 5
}

{
 "cells": [
  {
   "cell_type": "code",
   "execution_count": 4,
   "id": "bc97959b-3a45-47e0-a975-aa295fa5be55",
   "metadata": {},
   "outputs": [
    {
     "name": "stdin",
     "output_type": "stream",
     "text": [
      "Enter your Name: Trishula\n"
     ]
    },
    {
     "name": "stdout",
     "output_type": "stream",
     "text": [
      "Trishula\n"
     ]
    }
   ],
   "source": [
    "Name=input(\"Enter your Name:\")\n",
    "print(Name)"
   ]
  },
  {
   "cell_type": "code",
   "execution_count": 6,
   "id": "4d765e8d-8552-470d-bf1b-7ea568f5945f",
   "metadata": {},
   "outputs": [
    {
     "name": "stdout",
     "output_type": "stream",
     "text": [
      "<class 'str'>\n"
     ]
    }
   ],
   "source": [
    "print(type(Name))"
   ]
  },
  {
   "cell_type": "code",
   "execution_count": 7,
   "id": "0bb028dc-e4f5-4ae0-ba85-134c7942315a",
   "metadata": {},
   "outputs": [
    {
     "name": "stdin",
     "output_type": "stream",
     "text": [
      "Enter your number: 8778361445\n"
     ]
    },
    {
     "name": "stdout",
     "output_type": "stream",
     "text": [
      "8778361445\n"
     ]
    }
   ],
   "source": [
    "Number=input(\"Enter your number:\")\n",
    "print(Number)"
   ]
  },
  {
   "cell_type": "code",
   "execution_count": 8,
   "id": "0058c8b8-1833-44f1-98d9-78ce1a76d968",
   "metadata": {},
   "outputs": [
    {
     "name": "stdout",
     "output_type": "stream",
     "text": [
      "<class 'str'>\n"
     ]
    }
   ],
   "source": [
    "print(type(Number))"
   ]
  },
  {
   "cell_type": "code",
   "execution_count": 9,
   "id": "7cfe9f6c-77f9-444f-b9e3-afc0a13f69ad",
   "metadata": {},
   "outputs": [
    {
     "name": "stdin",
     "output_type": "stream",
     "text": [
      "Enter your Age: 21\n"
     ]
    },
    {
     "name": "stdout",
     "output_type": "stream",
     "text": [
      "21\n"
     ]
    }
   ],
   "source": [
    "Age=int(input(\"Enter your Age:\"))\n",
    "print(Age)"
   ]
  },
  {
   "cell_type": "code",
   "execution_count": 10,
   "id": "abd45c54-2334-4f96-9a72-1abe255d436a",
   "metadata": {},
   "outputs": [
    {
     "name": "stdout",
     "output_type": "stream",
     "text": [
      "<class 'int'>\n"
     ]
    }
   ],
   "source": [
    "print(type(Age))"
   ]
  },
  {
   "cell_type": "code",
   "execution_count": 11,
   "id": "74d3a9f1-d43c-4d85-b7d7-e9ca607e88ea",
   "metadata": {},
   "outputs": [
    {
     "name": "stdin",
     "output_type": "stream",
     "text": [
      "Enter your Salary: 21530.50\n"
     ]
    },
    {
     "name": "stdout",
     "output_type": "stream",
     "text": [
      "21530.5\n"
     ]
    }
   ],
   "source": [
    "Salary=float(input(\"Enter your Salary:\"))\n",
    "print(Salary)"
   ]
  },
  {
   "cell_type": "code",
   "execution_count": 12,
   "id": "94fd8c55-3c15-4900-836c-dbc7b64070e2",
   "metadata": {},
   "outputs": [
    {
     "name": "stdout",
     "output_type": "stream",
     "text": [
      "<class 'float'>\n"
     ]
    }
   ],
   "source": [
    "print(type(Salary))"
   ]
  },
  {
   "cell_type": "code",
   "execution_count": 14,
   "id": "40e2a960-f74e-4d32-871f-3ce3d31eda0f",
   "metadata": {},
   "outputs": [
    {
     "name": "stdin",
     "output_type": "stream",
     "text": [
      "Enter whether it is True or False: True\n"
     ]
    },
    {
     "name": "stdout",
     "output_type": "stream",
     "text": [
      "True\n"
     ]
    }
   ],
   "source": [
    "Status=bool(input(\"Enter whether it is True or False:\"))\n",
    "print(Status)"
   ]
  },
  {
   "cell_type": "code",
   "execution_count": 15,
   "id": "ee01a581-8b78-4b7c-b2ec-35fa7db5a42f",
   "metadata": {},
   "outputs": [
    {
     "name": "stdout",
     "output_type": "stream",
     "text": [
      "<class 'bool'>\n"
     ]
    }
   ],
   "source": [
    "print(type(Status))"
   ]
  },
  {
   "cell_type": "code",
   "execution_count": null,
   "id": "e5013c7b-0ed6-40a7-9103-a574b56ba982",
   "metadata": {},
   "outputs": [],
   "source": []
  }
 ],
 "metadata": {
  "kernelspec": {
   "display_name": "Python [conda env:base] *",
   "language": "python",
   "name": "conda-base-py"
  },
  "language_info": {
   "codemirror_mode": {
    "name": "ipython",
    "version": 3
   },
   "file_extension": ".py",
   "mimetype": "text/x-python",
   "name": "python",
   "nbconvert_exporter": "python",
   "pygments_lexer": "ipython3",
   "version": "3.13.5"
  }
 },
 "nbformat": 4,
 "nbformat_minor": 5
}

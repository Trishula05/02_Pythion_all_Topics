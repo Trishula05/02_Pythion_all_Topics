{
 "cells": [
  {
   "cell_type": "markdown",
   "id": "0ca64384-539e-4d7e-b168-c56bf2af662a",
   "metadata": {},
   "source": [
    "## Chapter 2: Variable creation"
   ]
  },
  {
   "cell_type": "markdown",
   "id": "f4f95aa5-d36b-4cc2-aa75-6fe12ace9d24",
   "metadata": {},
   "source": [
    "### Task 1"
   ]
  },
  {
   "cell_type": "code",
   "execution_count": 1,
   "id": "902b5b45-ff60-44e6-b350-014a439618a1",
   "metadata": {},
   "outputs": [],
   "source": [
    "driver_name=\"Raj\"\n",
    "pick_up_point=\"Perungalathur\"\n",
    "drop_point=\"Tambaram\"\n",
    "distance=\"5km\"\n",
    "timing=11.00\n",
    "fair=120\n",
    "vehicle_type=\"Auto\"\n",
    "status=True"
   ]
  },
  {
   "cell_type": "code",
   "execution_count": 2,
   "id": "832373c4-e3ab-4ade-aa00-3f1a64a2590c",
   "metadata": {},
   "outputs": [
    {
     "name": "stdout",
     "output_type": "stream",
     "text": [
      "Raj\n",
      "Perungalathur\n",
      "Tambaram\n",
      "5km\n",
      "11.0\n",
      "120\n",
      "Auto\n",
      "True\n"
     ]
    }
   ],
   "source": [
    "print(driver_name)\n",
    "print(pick_up_point)\n",
    "print(drop_point)\n",
    "print(distance)\n",
    "print(timing)\n",
    "print(fair)\n",
    "print(vehicle_type)\n",
    "print(status)"
   ]
  },
  {
   "cell_type": "code",
   "execution_count": 3,
   "id": "721001b9-6adc-4a3d-91ab-e5340cd72510",
   "metadata": {},
   "outputs": [
    {
     "name": "stdout",
     "output_type": "stream",
     "text": [
      "<class 'str'>\n",
      "<class 'str'>\n",
      "<class 'str'>\n",
      "<class 'str'>\n",
      "<class 'float'>\n",
      "<class 'int'>\n",
      "<class 'str'>\n",
      "<class 'bool'>\n"
     ]
    }
   ],
   "source": [
    "print(type(driver_name))\n",
    "print(type(pick_up_point))\n",
    "print(type(drop_point))\n",
    "print(type(distance))\n",
    "print(type(timing))\n",
    "print(type(fair))\n",
    "print(type(vehicle_type))\n",
    "print(type(status))"
   ]
  },
  {
   "cell_type": "code",
   "execution_count": null,
   "id": "d54e11ad-9f85-4ae0-a9af-1aadf18b67ce",
   "metadata": {},
   "outputs": [],
   "source": []
  }
 ],
 "metadata": {
  "kernelspec": {
   "display_name": "Python [conda env:base] *",
   "language": "python",
   "name": "conda-base-py"
  },
  "language_info": {
   "codemirror_mode": {
    "name": "ipython",
    "version": 3
   },
   "file_extension": ".py",
   "mimetype": "text/x-python",
   "name": "python",
   "nbconvert_exporter": "python",
   "pygments_lexer": "ipython3",
   "version": "3.13.5"
  }
 },
 "nbformat": 4,
 "nbformat_minor": 5
}

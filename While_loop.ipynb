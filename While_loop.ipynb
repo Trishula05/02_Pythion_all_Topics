{
 "cells": [
  {
   "cell_type": "markdown",
   "id": "e439fdcf-ff21-4386-be45-08b8d5f7681e",
   "metadata": {},
   "source": [
    "### While loop"
   ]
  },
  {
   "cell_type": "code",
   "execution_count": 3,
   "id": "65f13444-6554-448d-8a10-d9a86369b660",
   "metadata": {},
   "outputs": [
    {
     "name": "stdout",
     "output_type": "stream",
     "text": [
      "2\n",
      "3\n",
      "4\n",
      "5\n",
      "6\n"
     ]
    }
   ],
   "source": [
    "n=1\n",
    "while(n<=5):\n",
    "    n=n+1\n",
    "    print(n)"
   ]
  },
  {
   "cell_type": "code",
   "execution_count": 4,
   "id": "2d1483f9-a58a-4348-9bb0-51f9baa4f544",
   "metadata": {},
   "outputs": [
    {
     "name": "stdout",
     "output_type": "stream",
     "text": [
      "1\n",
      "2\n",
      "3\n",
      "4\n",
      "5\n",
      "6\n",
      "7\n"
     ]
    }
   ],
   "source": [
    "for i in range(1,11):\n",
    "    if(i==8):\n",
    "        break\n",
    "    else:\n",
    "        print(i)"
   ]
  },
  {
   "cell_type": "code",
   "execution_count": 8,
   "id": "d6787f13-bf9f-4b15-994d-150de8e9c087",
   "metadata": {},
   "outputs": [
    {
     "name": "stdout",
     "output_type": "stream",
     "text": [
      "1\n",
      "2\n",
      "3\n",
      "4\n",
      "5\n",
      "6\n",
      "7\n",
      "9\n",
      "10\n"
     ]
    }
   ],
   "source": [
    "for i in range(1,11):\n",
    "    if(i==8):\n",
    "        #break\n",
    "        continue\n",
    "    else:\n",
    "        print(i)"
   ]
  },
  {
   "cell_type": "code",
   "execution_count": 10,
   "id": "72c76866-0e04-49fe-8731-63d0c1fe6f99",
   "metadata": {},
   "outputs": [
    {
     "name": "stdout",
     "output_type": "stream",
     "text": [
      "1\n"
     ]
    }
   ],
   "source": [
    "x=1\n",
    "if(x<=5):\n",
    "    print(x)\n",
    "    x=x+1\n",
    "else:\n",
    "    print(\"Loop Finished\")"
   ]
  },
  {
   "cell_type": "code",
   "execution_count": 11,
   "id": "bd97a023-d0dd-47de-a8a4-f5e3ed0e8cf8",
   "metadata": {},
   "outputs": [
    {
     "name": "stdout",
     "output_type": "stream",
     "text": [
      "1\n",
      "2\n",
      "3\n",
      "4\n",
      "5\n",
      "Loop Finished\n"
     ]
    }
   ],
   "source": [
    "x=1\n",
    "while(x<=5):\n",
    "    print(x)\n",
    "    x=x+1\n",
    "else:\n",
    "    print(\"Loop Finished\")"
   ]
  },
  {
   "cell_type": "code",
   "execution_count": null,
   "id": "b6e5e75a-43c8-454d-8576-c56361679cc5",
   "metadata": {},
   "outputs": [
    {
     "name": "stdin",
     "output_type": "stream",
     "text": [
      "Enter your name: Trishula\n"
     ]
    },
    {
     "name": "stdout",
     "output_type": "stream",
     "text": [
      "T\n",
      "r\n",
      "i\n",
      "s\n",
      "The letter is h so i break the loop\n"
     ]
    }
   ],
   "source": [
    "while True:\n",
    "    n=input(\"Enter your name:\")\n",
    "    for j in n:\n",
    "        if(j=='h'):\n",
    "            print(\"The letter is h so i break the loop\")\n",
    "            break\n",
    "        else:\n",
    "            print(j)"
   ]
  },
  {
   "cell_type": "markdown",
   "id": "f64b3796-6266-4327-9b45-154ee17b5f28",
   "metadata": {},
   "source": [
    "### For loop"
   ]
  },
  {
   "cell_type": "code",
   "execution_count": 17,
   "id": "9cd35aba-02b6-456a-9da2-1b419b5b6458",
   "metadata": {},
   "outputs": [
    {
     "name": "stdout",
     "output_type": "stream",
     "text": [
      "6\n",
      "9\n",
      "<class 'list'>\n"
     ]
    }
   ],
   "source": [
    "a=[1,2,3,4,5,6,7,8,9,10]\n",
    "print(a[5])\n",
    "print(a[8])\n",
    "print(type(a))"
   ]
  },
  {
   "cell_type": "markdown",
   "id": "11e7762e-9982-4fe8-8d20-2941c729907c",
   "metadata": {},
   "source": [
    "### list []\n",
    "### tuple ()\n",
    "### set {}\n",
    "### dictionary {}"
   ]
  },
  {
   "cell_type": "code",
   "execution_count": 10,
   "id": "41a2aa0d-44be-414b-8996-ce7fe0b07ed6",
   "metadata": {},
   "outputs": [
    {
     "name": "stdout",
     "output_type": "stream",
     "text": [
      "10\n"
     ]
    }
   ],
   "source": [
    "my_list=[1,2,3,4,5,6,7,8,9,10]\n",
    "largest=my_list[0]\n",
    "for num in my_list:\n",
    "    if num>largest:\n",
    "        largest=num\n",
    "print(largest)"
   ]
  },
  {
   "cell_type": "code",
   "execution_count": 9,
   "id": "15e91389-b3fe-43fd-884e-20d1e699d86f",
   "metadata": {},
   "outputs": [
    {
     "name": "stdout",
     "output_type": "stream",
     "text": [
      "s\n"
     ]
    }
   ],
   "source": [
    "a=[1,2,3,4,5]\n",
    "b=[\"Trishula\",True,1.2,5]\n",
    "print(b[0][3])"
   ]
  },
  {
   "cell_type": "code",
   "execution_count": 26,
   "id": "d128f520-b03c-4335-942d-f0b4f9d5b7af",
   "metadata": {},
   "outputs": [
    {
     "name": "stdout",
     "output_type": "stream",
     "text": [
      "Nexila\n",
      "<class 'dict'>\n"
     ]
    }
   ],
   "source": [
    "a={\"Name\":\"Nexila\"}\n",
    "print(a[\"Name\"])\n",
    "print(type(a))"
   ]
  },
  {
   "cell_type": "code",
   "execution_count": 29,
   "id": "eeebb843-6fb6-4532-a767-824414a88cf5",
   "metadata": {},
   "outputs": [
    {
     "name": "stdout",
     "output_type": "stream",
     "text": [
      "05-05-2004\n"
     ]
    }
   ],
   "source": [
    "details={\"Name\":\"Trishu\",\"Age\":21,\"DOB\":\"05-05-2004\",\"Dept\":\"M.Com\"}\n",
    "print(details[\"DOB\"])"
   ]
  },
  {
   "cell_type": "code",
   "execution_count": null,
   "id": "cf1823bd-60a4-465d-b98b-533cd7d892b7",
   "metadata": {},
   "outputs": [],
   "source": []
  }
 ],
 "metadata": {
  "kernelspec": {
   "display_name": "Python [conda env:base] *",
   "language": "python",
   "name": "conda-base-py"
  },
  "language_info": {
   "codemirror_mode": {
    "name": "ipython",
    "version": 3
   },
   "file_extension": ".py",
   "mimetype": "text/x-python",
   "name": "python",
   "nbconvert_exporter": "python",
   "pygments_lexer": "ipython3",
   "version": "3.13.5"
  }
 },
 "nbformat": 4,
 "nbformat_minor": 5
}

{
 "cells": [
  {
   "cell_type": "markdown",
   "id": "192ca3b0-d671-43e3-9400-e63c19868697",
   "metadata": {},
   "source": [
    "### Arithmatic Operator\n",
    "Thera are 7 types of operators: "
   ]
  },
  {
   "cell_type": "code",
   "execution_count": 2,
   "id": "64ac9039-36a6-4c61-b247-ab45f8e42f89",
   "metadata": {},
   "outputs": [],
   "source": [
    "a=10\n",
    "b=2"
   ]
  },
  {
   "cell_type": "code",
   "execution_count": 3,
   "id": "a93f2ce6-e3a4-44c9-9650-31c8fe21d0c6",
   "metadata": {},
   "outputs": [
    {
     "name": "stdout",
     "output_type": "stream",
     "text": [
      "12\n",
      "8\n",
      "20\n",
      "5.0\n",
      "0\n",
      "5\n",
      "100\n"
     ]
    }
   ],
   "source": [
    "print(a+b)\n",
    "print(a-b)\n",
    "print(a*b)\n",
    "print(a/b)\n",
    "print(a%b)\n",
    "print(a//b)\n",
    "print(a**b)"
   ]
  },
  {
   "cell_type": "markdown",
   "id": "fcc3004f-f32a-49e0-9380-3ab53e079275",
   "metadata": {},
   "source": [
    "### Relationship operator"
   ]
  },
  {
   "cell_type": "code",
   "execution_count": 4,
   "id": "e4e4a827-9b8e-440e-a46d-9032f5228886",
   "metadata": {},
   "outputs": [],
   "source": [
    "a=10\n",
    "b=20"
   ]
  },
  {
   "cell_type": "code",
   "execution_count": 5,
   "id": "7ed4268f-b82f-43fb-a14d-3e94c28025c8",
   "metadata": {},
   "outputs": [
    {
     "name": "stdout",
     "output_type": "stream",
     "text": [
      "False\n",
      "True\n",
      "False\n",
      "True\n",
      "False\n",
      "True\n"
     ]
    }
   ],
   "source": [
    "print(a>b)\n",
    "print(a<b)\n",
    "print(a>=b)\n",
    "print(a<=b)\n",
    "print(a==b)\n",
    "print(a!=b)"
   ]
  },
  {
   "cell_type": "markdown",
   "id": "e3776887-200d-459b-b0cf-b5fa8ee8ed77",
   "metadata": {},
   "source": [
    "### Logical Operators"
   ]
  },
  {
   "cell_type": "code",
   "execution_count": null,
   "id": "3f02a298-c562-4501-9e99-a3074ec2da65",
   "metadata": {},
   "outputs": [],
   "source": []
  }
 ],
 "metadata": {
  "kernelspec": {
   "display_name": "Python [conda env:base] *",
   "language": "python",
   "name": "conda-base-py"
  },
  "language_info": {
   "codemirror_mode": {
    "name": "ipython",
    "version": 3
   },
   "file_extension": ".py",
   "mimetype": "text/x-python",
   "name": "python",
   "nbconvert_exporter": "python",
   "pygments_lexer": "ipython3",
   "version": "3.13.5"
  }
 },
 "nbformat": 4,
 "nbformat_minor": 5
}
